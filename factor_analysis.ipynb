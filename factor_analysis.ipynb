{
  "nbformat": 4,
  "nbformat_minor": 0,
  "metadata": {
    "colab": {
      "provenance": [],
      "authorship_tag": "ABX9TyOQeoGpRLIxvzrdEr5VFQAn",
      "include_colab_link": true
    },
    "kernelspec": {
      "name": "python3",
      "display_name": "Python 3"
    },
    "language_info": {
      "name": "python"
    }
  },
  "cells": [
    {
      "cell_type": "markdown",
      "metadata": {
        "id": "view-in-github",
        "colab_type": "text"
      },
      "source": [
        "<a href=\"https://colab.research.google.com/github/ywtd387e/lab_exp3/blob/main/factor_analysis.ipynb\" target=\"_parent\"><img src=\"https://colab.research.google.com/assets/colab-badge.svg\" alt=\"Open In Colab\"/></a>"
      ]
    },
    {
      "cell_type": "code",
      "execution_count": 1,
      "metadata": {
        "colab": {
          "base_uri": "https://localhost:8080/",
          "height": 0
        },
        "id": "T9GPnuTd8NMG",
        "outputId": "f580e10b-9a0d-48e4-e56a-938120e0c4e8"
      },
      "outputs": [
        {
          "output_type": "stream",
          "name": "stdout",
          "text": [
            "Collecting factor_analyzer\n",
            "  Downloading factor_analyzer-0.5.0.tar.gz (42 kB)\n",
            "\u001b[2K     \u001b[90m━━━━━━━━━━━━━━━━━━━━━━━━━━━━━━━━━━━━━━━━\u001b[0m \u001b[32m42.5/42.5 kB\u001b[0m \u001b[31m870.4 kB/s\u001b[0m eta \u001b[36m0:00:00\u001b[0m\n",
            "\u001b[?25h  Installing build dependencies ... \u001b[?25l\u001b[?25hdone\n",
            "  Getting requirements to build wheel ... \u001b[?25l\u001b[?25hdone\n",
            "  Preparing metadata (pyproject.toml) ... \u001b[?25l\u001b[?25hdone\n",
            "Requirement already satisfied: pandas in /usr/local/lib/python3.10/dist-packages (from factor_analyzer) (1.5.3)\n",
            "Requirement already satisfied: scipy in /usr/local/lib/python3.10/dist-packages (from factor_analyzer) (1.11.4)\n",
            "Requirement already satisfied: numpy in /usr/local/lib/python3.10/dist-packages (from factor_analyzer) (1.23.5)\n",
            "Requirement already satisfied: scikit-learn in /usr/local/lib/python3.10/dist-packages (from factor_analyzer) (1.2.2)\n",
            "Collecting pre-commit (from factor_analyzer)\n",
            "  Downloading pre_commit-3.5.0-py2.py3-none-any.whl (203 kB)\n",
            "\u001b[2K     \u001b[90m━━━━━━━━━━━━━━━━━━━━━━━━━━━━━━━━━━━━━━━━\u001b[0m \u001b[32m203.7/203.7 kB\u001b[0m \u001b[31m3.4 MB/s\u001b[0m eta \u001b[36m0:00:00\u001b[0m\n",
            "\u001b[?25hRequirement already satisfied: python-dateutil>=2.8.1 in /usr/local/lib/python3.10/dist-packages (from pandas->factor_analyzer) (2.8.2)\n",
            "Requirement already satisfied: pytz>=2020.1 in /usr/local/lib/python3.10/dist-packages (from pandas->factor_analyzer) (2023.3.post1)\n",
            "Collecting cfgv>=2.0.0 (from pre-commit->factor_analyzer)\n",
            "  Downloading cfgv-3.4.0-py2.py3-none-any.whl (7.2 kB)\n",
            "Collecting identify>=1.0.0 (from pre-commit->factor_analyzer)\n",
            "  Downloading identify-2.5.32-py2.py3-none-any.whl (98 kB)\n",
            "\u001b[2K     \u001b[90m━━━━━━━━━━━━━━━━━━━━━━━━━━━━━━━━━━━━━━━━\u001b[0m \u001b[32m98.9/98.9 kB\u001b[0m \u001b[31m12.4 MB/s\u001b[0m eta \u001b[36m0:00:00\u001b[0m\n",
            "\u001b[?25hCollecting nodeenv>=0.11.1 (from pre-commit->factor_analyzer)\n",
            "  Downloading nodeenv-1.8.0-py2.py3-none-any.whl (22 kB)\n",
            "Requirement already satisfied: pyyaml>=5.1 in /usr/local/lib/python3.10/dist-packages (from pre-commit->factor_analyzer) (6.0.1)\n",
            "Collecting virtualenv>=20.10.0 (from pre-commit->factor_analyzer)\n",
            "  Downloading virtualenv-20.25.0-py3-none-any.whl (3.8 MB)\n",
            "\u001b[2K     \u001b[90m━━━━━━━━━━━━━━━━━━━━━━━━━━━━━━━━━━━━━━━━\u001b[0m \u001b[32m3.8/3.8 MB\u001b[0m \u001b[31m34.1 MB/s\u001b[0m eta \u001b[36m0:00:00\u001b[0m\n",
            "\u001b[?25hRequirement already satisfied: joblib>=1.1.1 in /usr/local/lib/python3.10/dist-packages (from scikit-learn->factor_analyzer) (1.3.2)\n",
            "Requirement already satisfied: threadpoolctl>=2.0.0 in /usr/local/lib/python3.10/dist-packages (from scikit-learn->factor_analyzer) (3.2.0)\n",
            "Requirement already satisfied: setuptools in /usr/local/lib/python3.10/dist-packages (from nodeenv>=0.11.1->pre-commit->factor_analyzer) (67.7.2)\n",
            "Requirement already satisfied: six>=1.5 in /usr/local/lib/python3.10/dist-packages (from python-dateutil>=2.8.1->pandas->factor_analyzer) (1.16.0)\n",
            "Collecting distlib<1,>=0.3.7 (from virtualenv>=20.10.0->pre-commit->factor_analyzer)\n",
            "  Downloading distlib-0.3.7-py2.py3-none-any.whl (468 kB)\n",
            "\u001b[2K     \u001b[90m━━━━━━━━━━━━━━━━━━━━━━━━━━━━━━━━━━━━━━━━\u001b[0m \u001b[32m468.9/468.9 kB\u001b[0m \u001b[31m39.7 MB/s\u001b[0m eta \u001b[36m0:00:00\u001b[0m\n",
            "\u001b[?25hRequirement already satisfied: filelock<4,>=3.12.2 in /usr/local/lib/python3.10/dist-packages (from virtualenv>=20.10.0->pre-commit->factor_analyzer) (3.13.1)\n",
            "Requirement already satisfied: platformdirs<5,>=3.9.1 in /usr/local/lib/python3.10/dist-packages (from virtualenv>=20.10.0->pre-commit->factor_analyzer) (4.0.0)\n",
            "Building wheels for collected packages: factor_analyzer\n",
            "  Building wheel for factor_analyzer (pyproject.toml) ... \u001b[?25l\u001b[?25hdone\n",
            "  Created wheel for factor_analyzer: filename=factor_analyzer-0.5.0-py2.py3-none-any.whl size=42487 sha256=6b5fb9c2c4c72a030706f1ebad99924f4abdf8bfc9bbb9be37bdd44174314025\n",
            "  Stored in directory: /root/.cache/pip/wheels/74/a2/6c/26fb1addf1ce6c60a8cef8397f2999f0a1e6e2fcddc8abf33e\n",
            "Successfully built factor_analyzer\n",
            "Installing collected packages: distlib, virtualenv, nodeenv, identify, cfgv, pre-commit, factor_analyzer\n",
            "Successfully installed cfgv-3.4.0 distlib-0.3.7 factor_analyzer-0.5.0 identify-2.5.32 nodeenv-1.8.0 pre-commit-3.5.0 virtualenv-20.25.0\n"
          ]
        }
      ],
      "source": [
        "!pip install factor_analyzer\n"
      ]
    },
    {
      "cell_type": "code",
      "source": [
        "import pandas as pd\n",
        "from sklearn.datasets import load_iris\n",
        "from factor_analyzer import FactorAnalyzer\n",
        "import matplotlib.pyplot as plt"
      ],
      "metadata": {
        "id": "WjQ20o4T8mZO"
      },
      "execution_count": 2,
      "outputs": []
    },
    {
      "cell_type": "code",
      "source": [
        "df= pd.read_csv(\"bfi.csv\")\n",
        "df.columns"
      ],
      "metadata": {
        "colab": {
          "base_uri": "https://localhost:8080/",
          "height": 0
        },
        "id": "ZZHE1z-x8q1b",
        "outputId": "27cf3615-596c-45a7-8c37-844e88c16a07"
      },
      "execution_count": 3,
      "outputs": [
        {
          "output_type": "execute_result",
          "data": {
            "text/plain": [
              "Index(['A1', 'A2', 'A3', 'A4', 'A5', 'C1', 'C2', 'C3', 'C4', 'C5', 'E1', 'E2',\n",
              "       'E3', 'E4', 'E5', 'N1', 'N2', 'N3', 'N4', 'N5', 'O1', 'O2', 'O3', 'O4',\n",
              "       'O5', 'gender', 'education', 'age'],\n",
              "      dtype='object')"
            ]
          },
          "metadata": {},
          "execution_count": 3
        }
      ]
    },
    {
      "cell_type": "code",
      "source": [
        "df.drop(['gender', 'education', 'age'],axis=1,inplace=True)"
      ],
      "metadata": {
        "id": "b1c-lqWU8yA1"
      },
      "execution_count": 4,
      "outputs": []
    },
    {
      "cell_type": "code",
      "source": [
        "df.columns"
      ],
      "metadata": {
        "colab": {
          "base_uri": "https://localhost:8080/",
          "height": 0
        },
        "id": "mWScY4bX897v",
        "outputId": "fa277a1c-79b9-4aeb-cde3-3c61ff69ce10"
      },
      "execution_count": 6,
      "outputs": [
        {
          "output_type": "execute_result",
          "data": {
            "text/plain": [
              "Index(['A1', 'A2', 'A3', 'A4', 'A5', 'C1', 'C2', 'C3', 'C4', 'C5', 'E1', 'E2',\n",
              "       'E3', 'E4', 'E5', 'N1', 'N2', 'N3', 'N4', 'N5', 'O1', 'O2', 'O3', 'O4',\n",
              "       'O5'],\n",
              "      dtype='object')"
            ]
          },
          "metadata": {},
          "execution_count": 6
        }
      ]
    },
    {
      "cell_type": "code",
      "source": [
        "df.dropna(inplace=True)"
      ],
      "metadata": {
        "id": "YuBMI9r39AyN"
      },
      "execution_count": 7,
      "outputs": []
    },
    {
      "cell_type": "code",
      "source": [
        "df.info"
      ],
      "metadata": {
        "colab": {
          "base_uri": "https://localhost:8080/",
          "height": 0
        },
        "id": "wWDaArtY9HTr",
        "outputId": "c0b258fa-7328-47ff-df37-489af102ec36"
      },
      "execution_count": 8,
      "outputs": [
        {
          "output_type": "execute_result",
          "data": {
            "text/plain": [
              "<bound method DataFrame.info of        A1   A2   A3   A4   A5   C1   C2   C3   C4   C5  ...   N1   N2   N3  \\\n",
              "0     2.0  4.0  3.0  4.0  4.0  2.0  3.0  3.0  4.0  4.0  ...  3.0  4.0  2.0   \n",
              "1     2.0  4.0  5.0  2.0  5.0  5.0  4.0  4.0  3.0  4.0  ...  3.0  3.0  3.0   \n",
              "2     5.0  4.0  5.0  4.0  4.0  4.0  5.0  4.0  2.0  5.0  ...  4.0  5.0  4.0   \n",
              "3     4.0  4.0  6.0  5.0  5.0  4.0  4.0  3.0  5.0  5.0  ...  2.0  5.0  2.0   \n",
              "4     2.0  3.0  3.0  4.0  5.0  4.0  4.0  5.0  3.0  2.0  ...  2.0  3.0  4.0   \n",
              "...   ...  ...  ...  ...  ...  ...  ...  ...  ...  ...  ...  ...  ...  ...   \n",
              "2793  3.0  4.0  3.0  1.0  3.0  5.0  4.0  5.0  3.0  4.0  ...  5.0  6.0  5.0   \n",
              "2794  5.0  5.0  5.0  5.0  3.0  5.0  4.0  2.0  3.0  5.0  ...  4.0  5.0  3.0   \n",
              "2797  2.0  3.0  5.0  2.0  5.0  5.0  5.0  5.0  1.0  1.0  ...  3.0  4.0  3.0   \n",
              "2798  5.0  2.0  2.0  4.0  4.0  5.0  5.0  5.0  2.0  6.0  ...  5.0  5.0  6.0   \n",
              "2799  2.0  3.0  1.0  4.0  2.0  5.0  5.0  3.0  3.0  3.0  ...  1.0  2.0  2.0   \n",
              "\n",
              "       N4   N5   O1  O2   O3   O4   O5  \n",
              "0     2.0  3.0  3.0   6  3.0  4.0  3.0  \n",
              "1     5.0  5.0  4.0   2  4.0  3.0  3.0  \n",
              "2     2.0  3.0  4.0   2  5.0  5.0  2.0  \n",
              "3     4.0  1.0  3.0   3  4.0  3.0  5.0  \n",
              "4     4.0  3.0  3.0   3  4.0  3.0  3.0  \n",
              "...   ...  ...  ...  ..  ...  ...  ...  \n",
              "2793  5.0  6.0  6.0   1  4.0  5.0  2.0  \n",
              "2794  5.0  2.0  6.0   1  5.0  6.0  2.0  \n",
              "2797  3.0  1.0  5.0   1  6.0  4.0  3.0  \n",
              "2798  4.0  1.0  5.0   2  5.0  5.0  1.0  \n",
              "2799  1.0  1.0  3.0   1  3.0  5.0  1.0  \n",
              "\n",
              "[2436 rows x 25 columns]>"
            ]
          },
          "metadata": {},
          "execution_count": 8
        }
      ]
    },
    {
      "cell_type": "code",
      "source": [
        "df.head"
      ],
      "metadata": {
        "colab": {
          "base_uri": "https://localhost:8080/",
          "height": 0
        },
        "id": "-4GgSXwW9MHl",
        "outputId": "1539b2f6-4c5b-4fe9-fc0c-c8a99590fe7c"
      },
      "execution_count": 9,
      "outputs": [
        {
          "output_type": "execute_result",
          "data": {
            "text/plain": [
              "<bound method NDFrame.head of        A1   A2   A3   A4   A5   C1   C2   C3   C4   C5  ...   N1   N2   N3  \\\n",
              "0     2.0  4.0  3.0  4.0  4.0  2.0  3.0  3.0  4.0  4.0  ...  3.0  4.0  2.0   \n",
              "1     2.0  4.0  5.0  2.0  5.0  5.0  4.0  4.0  3.0  4.0  ...  3.0  3.0  3.0   \n",
              "2     5.0  4.0  5.0  4.0  4.0  4.0  5.0  4.0  2.0  5.0  ...  4.0  5.0  4.0   \n",
              "3     4.0  4.0  6.0  5.0  5.0  4.0  4.0  3.0  5.0  5.0  ...  2.0  5.0  2.0   \n",
              "4     2.0  3.0  3.0  4.0  5.0  4.0  4.0  5.0  3.0  2.0  ...  2.0  3.0  4.0   \n",
              "...   ...  ...  ...  ...  ...  ...  ...  ...  ...  ...  ...  ...  ...  ...   \n",
              "2793  3.0  4.0  3.0  1.0  3.0  5.0  4.0  5.0  3.0  4.0  ...  5.0  6.0  5.0   \n",
              "2794  5.0  5.0  5.0  5.0  3.0  5.0  4.0  2.0  3.0  5.0  ...  4.0  5.0  3.0   \n",
              "2797  2.0  3.0  5.0  2.0  5.0  5.0  5.0  5.0  1.0  1.0  ...  3.0  4.0  3.0   \n",
              "2798  5.0  2.0  2.0  4.0  4.0  5.0  5.0  5.0  2.0  6.0  ...  5.0  5.0  6.0   \n",
              "2799  2.0  3.0  1.0  4.0  2.0  5.0  5.0  3.0  3.0  3.0  ...  1.0  2.0  2.0   \n",
              "\n",
              "       N4   N5   O1  O2   O3   O4   O5  \n",
              "0     2.0  3.0  3.0   6  3.0  4.0  3.0  \n",
              "1     5.0  5.0  4.0   2  4.0  3.0  3.0  \n",
              "2     2.0  3.0  4.0   2  5.0  5.0  2.0  \n",
              "3     4.0  1.0  3.0   3  4.0  3.0  5.0  \n",
              "4     4.0  3.0  3.0   3  4.0  3.0  3.0  \n",
              "...   ...  ...  ...  ..  ...  ...  ...  \n",
              "2793  5.0  6.0  6.0   1  4.0  5.0  2.0  \n",
              "2794  5.0  2.0  6.0   1  5.0  6.0  2.0  \n",
              "2797  3.0  1.0  5.0   1  6.0  4.0  3.0  \n",
              "2798  4.0  1.0  5.0   2  5.0  5.0  1.0  \n",
              "2799  1.0  1.0  3.0   1  3.0  5.0  1.0  \n",
              "\n",
              "[2436 rows x 25 columns]>"
            ]
          },
          "metadata": {},
          "execution_count": 9
        }
      ]
    },
    {
      "cell_type": "code",
      "source": [
        "from factor_analyzer.factor_analyzer import calculate_bartlett_sphericity\n",
        "chi_square_value,p_value=calculate_bartlett_sphericity(df)\n",
        "chi_square_value, p_value"
      ],
      "metadata": {
        "colab": {
          "base_uri": "https://localhost:8080/",
          "height": 0
        },
        "id": "1SjMqoiD9Qgd",
        "outputId": "e9b4f96f-0697-425d-c45f-082af1d51353"
      },
      "execution_count": 10,
      "outputs": [
        {
          "output_type": "execute_result",
          "data": {
            "text/plain": [
              "(18146.065577235022, 0.0)"
            ]
          },
          "metadata": {},
          "execution_count": 10
        }
      ]
    },
    {
      "cell_type": "code",
      "source": [
        "from factor_analyzer.factor_analyzer import calculate_kmo\n",
        "kmo_all,kmo_model=calculate_kmo(df)\n",
        "kmo_model"
      ],
      "metadata": {
        "colab": {
          "base_uri": "https://localhost:8080/",
          "height": 0
        },
        "id": "Ss293Swo9VpN",
        "outputId": "99796a3b-a027-4b51-97cb-3d2062e9afa1"
      },
      "execution_count": 11,
      "outputs": [
        {
          "output_type": "execute_result",
          "data": {
            "text/plain": [
              "0.8486452309468395"
            ]
          },
          "metadata": {},
          "execution_count": 11
        }
      ]
    },
    {
      "cell_type": "code",
      "source": [
        "fa = FactorAnalyzer(25, rotation=None)\n",
        "fa.fit(df)\n",
        "ev, v = fa.get_eigenvalues()\n",
        "\n",
        "ev"
      ],
      "metadata": {
        "colab": {
          "base_uri": "https://localhost:8080/",
          "height": 0
        },
        "id": "chJWTpXW9YoA",
        "outputId": "1ff8305d-ef91-4c71-9621-fd61d159dba8"
      },
      "execution_count": 15,
      "outputs": [
        {
          "output_type": "execute_result",
          "data": {
            "text/plain": [
              "array([5.13431118, 2.75188667, 2.14270195, 1.85232761, 1.54816285,\n",
              "       1.07358247, 0.83953893, 0.79920618, 0.71898919, 0.68808879,\n",
              "       0.67637336, 0.65179984, 0.62325295, 0.59656284, 0.56309083,\n",
              "       0.54330533, 0.51451752, 0.49450315, 0.48263952, 0.448921  ,\n",
              "       0.42336611, 0.40067145, 0.38780448, 0.38185679, 0.26253902])"
            ]
          },
          "metadata": {},
          "execution_count": 15
        }
      ]
    },
    {
      "cell_type": "code",
      "source": [
        "plt.scatter(range(1,df.shape[1]+1),ev)\n",
        "plt.plot(range(1,df.shape[1]+1),ev)\n",
        "plt.title('Scree Plot')\n",
        "plt.xlabel('Factors')\n",
        "plt.ylabel('Eigenvalue')\n",
        "plt.grid()\n",
        "plt.show()"
      ],
      "metadata": {
        "colab": {
          "base_uri": "https://localhost:8080/",
          "height": 472
        },
        "id": "gu8nnwpK9s6z",
        "outputId": "109601e3-25ef-42e5-d03f-f88c1b12504a"
      },
      "execution_count": 16,
      "outputs": [
        {
          "output_type": "display_data",
          "data": {
            "text/plain": [
              "<Figure size 640x480 with 1 Axes>"
            ],
            "image/png": "[encoded data removed]"
          },
          "metadata": {}
        }
      ]
    },
    {
      "cell_type": "code",
      "source": [
        "\n",
        "fa = FactorAnalyzer(n_factors=6, rotation='varimax')\n",
        "fa.fit(df)\n",
        "loadings = fa.loadings_\n",
        "loadings"
      ],
      "metadata": {
        "colab": {
          "base_uri": "https://localhost:8080/",
          "height": 0
        },
        "id": "Uofh-q8H9wOi",
        "outputId": "ddb7d3be-f286-418d-fe22-54c6937af8a1"
      },
      "execution_count": 17,
      "outputs": [
        {
          "output_type": "execute_result",
          "data": {
            "text/plain": [
              "array([[ 9.52197422e-02,  4.07831574e-02,  4.87338848e-02,\n",
              "        -5.30987348e-01, -1.13057329e-01,  1.61216352e-01],\n",
              "       [ 3.31312760e-02,  2.35538040e-01,  1.33714395e-01,\n",
              "         6.61140975e-01,  6.37337870e-02, -6.24353610e-03],\n",
              "       [-9.62088411e-03,  3.43008174e-01,  1.21353367e-01,\n",
              "         6.05932693e-01,  3.39902653e-02,  1.60106427e-01],\n",
              "       [-8.15175586e-02,  2.19716721e-01,  2.35139532e-01,\n",
              "         4.04594039e-01, -1.25338019e-01,  8.63557029e-02],\n",
              "       [-1.49615885e-01,  4.14457674e-01,  1.06382165e-01,\n",
              "         4.69698291e-01,  3.09765725e-02,  2.36519342e-01],\n",
              "       [-4.35840215e-03,  7.72477524e-02,  5.54582255e-01,\n",
              "         7.51069590e-03,  1.90123729e-01,  9.50350462e-02],\n",
              "       [ 6.83300836e-02,  3.83703840e-02,  6.74545450e-01,\n",
              "         5.70549876e-02,  8.75925912e-02,  1.52775079e-01],\n",
              "       [-3.99936734e-02,  3.18673007e-02,  5.51164438e-01,\n",
              "         1.01282240e-01, -1.13380871e-02,  8.99628355e-03],\n",
              "       [ 2.16283366e-01, -6.62407738e-02, -6.38475489e-01,\n",
              "        -1.02616940e-01, -1.43846475e-01,  3.18358897e-01],\n",
              "       [ 2.84187245e-01, -1.80811697e-01, -5.44837676e-01,\n",
              "        -5.99548221e-02,  2.58370939e-02,  1.32423444e-01],\n",
              "       [ 2.22797942e-02, -5.90450890e-01,  5.39149059e-02,\n",
              "        -1.30850531e-01, -7.12045794e-02,  1.56582656e-01],\n",
              "       [ 2.33623567e-01, -6.84577631e-01, -8.84970716e-02,\n",
              "        -1.16715665e-01, -4.55610413e-02,  1.15065401e-01],\n",
              "       [-8.95006117e-04,  5.56774180e-01,  1.03390347e-01,\n",
              "         1.79396480e-01,  2.41179904e-01,  2.67291316e-01],\n",
              "       [-1.36788076e-01,  6.58394906e-01,  1.13798005e-01,\n",
              "         2.41142961e-01, -1.07808203e-01,  1.58512850e-01],\n",
              "       [ 3.44895882e-02,  5.07535082e-01,  3.09812528e-01,\n",
              "         7.88042863e-02,  2.00821350e-01,  8.74730260e-03],\n",
              "       [ 8.05805938e-01,  6.80113027e-02, -5.12637876e-02,\n",
              "        -1.74849358e-01, -7.49771190e-02, -9.62661713e-02],\n",
              "       [ 7.89831687e-01,  2.29582939e-02, -3.74768699e-02,\n",
              "        -1.41134482e-01,  6.72646128e-03, -1.39822613e-01],\n",
              "       [ 7.25081218e-01, -6.56869338e-02, -5.90394377e-02,\n",
              "        -1.91838174e-02, -1.06635548e-02,  6.24953368e-02],\n",
              "       [ 5.78318849e-01, -3.45072324e-01, -1.62173861e-01,\n",
              "         4.03124768e-04,  6.29164831e-02,  1.47551243e-01],\n",
              "       [ 5.23097071e-01, -1.61675117e-01, -2.53049780e-02,\n",
              "         9.01247904e-02, -1.61891978e-01,  1.20049477e-01],\n",
              "       [-2.00040179e-02,  2.25338562e-01,  1.33200799e-01,\n",
              "         5.17793725e-03,  4.79477218e-01,  2.18689836e-01],\n",
              "       [ 1.56230108e-01, -1.98151975e-03, -8.60468497e-02,\n",
              "         4.39891065e-02, -4.96639673e-01,  1.34692972e-01],\n",
              "       [ 1.18510152e-02,  3.25954482e-01,  9.38796111e-02,\n",
              "         7.66416472e-02,  5.66128045e-01,  2.10777218e-01],\n",
              "       [ 2.07280572e-01, -1.77745713e-01, -5.67146630e-03,\n",
              "         1.33655572e-01,  3.49227137e-01,  1.78068367e-01],\n",
              "       [ 6.32343665e-02, -1.42210627e-02, -4.70592290e-02,\n",
              "        -5.75607776e-02, -5.76742634e-01,  1.35935871e-01]])"
            ]
          },
          "metadata": {},
          "execution_count": 17
        }
      ]
    },
    {
      "cell_type": "code",
      "source": [
        "fa = FactorAnalyzer(5,rotation=\"varimax\")\n",
        "fa.fit(df)\n",
        "fa.loadings_"
      ],
      "metadata": {
        "colab": {
          "base_uri": "https://localhost:8080/",
          "height": 0
        },
        "id": "3oh9Qr7Y91f3",
        "outputId": "4c3b31f9-c823-4fce-a7f4-5d9a5eb671e7"
      },
      "execution_count": 18,
      "outputs": [
        {
          "output_type": "execute_result",
          "data": {
            "text/plain": [
              "array([[ 0.11112641,  0.04046493,  0.02279796, -0.42816554, -0.07793074],\n",
              "       [ 0.029588  ,  0.21371606,  0.13903739,  0.62694553,  0.06213921],\n",
              "       [ 0.00935691,  0.31784809,  0.10933115,  0.65074261,  0.05619584],\n",
              "       [-0.06647574,  0.20456624,  0.23058374,  0.43562383, -0.1127004 ],\n",
              "       [-0.12211317,  0.39303367,  0.0878692 ,  0.53708686,  0.0667076 ],\n",
              "       [ 0.01041556,  0.07018423,  0.54582379,  0.03887794,  0.20958365],\n",
              "       [ 0.08957412,  0.0332704 ,  0.64873118,  0.10278247,  0.11543389],\n",
              "       [-0.03085502,  0.02390651,  0.55703585,  0.11157762, -0.00518271],\n",
              "       [ 0.24041008, -0.0649837 , -0.63380555, -0.03749823, -0.107535  ],\n",
              "       [ 0.29031777, -0.1763948 , -0.56246672, -0.04752477,  0.03682235],\n",
              "       [ 0.04281888, -0.5748346 ,  0.03314352, -0.10481258, -0.05879528],\n",
              "       [ 0.24474268, -0.67873071, -0.10248265, -0.11251716, -0.04200997],\n",
              "       [ 0.02418041,  0.53681627,  0.08301031,  0.2579065 ,  0.28087734],\n",
              "       [-0.11561383,  0.64683266,  0.1020229 ,  0.3061013 , -0.07342224],\n",
              "       [ 0.0361453 ,  0.50406876,  0.31289947,  0.09035398,  0.21373932],\n",
              "       [ 0.78680747,  0.0789227 , -0.04599686, -0.21636343, -0.08470394],\n",
              "       [ 0.75410893,  0.02730105, -0.03056816, -0.19374409, -0.01030371],\n",
              "       [ 0.73172071, -0.0614302 , -0.06708415, -0.02771164, -0.00421723],\n",
              "       [ 0.59060205, -0.3453884 , -0.17890189,  0.00588617,  0.07522516],\n",
              "       [ 0.53785785, -0.16129053, -0.03730883,  0.10093148, -0.14976921],\n",
              "       [-0.00222396,  0.21300477,  0.1150799 ,  0.06155001,  0.50490717],\n",
              "       [ 0.17578784,  0.00455977, -0.09972866,  0.08180863, -0.46892525],\n",
              "       [ 0.02673618,  0.31095612,  0.07687283,  0.12688914,  0.5960066 ],\n",
              "       [ 0.22058215, -0.19119609, -0.0219056 ,  0.15547476,  0.36901221],\n",
              "       [ 0.08540105, -0.00534708, -0.06272953, -0.01038386, -0.53377797]])"
            ]
          },
          "metadata": {},
          "execution_count": 18
        }
      ]
    },
    {
      "cell_type": "code",
      "source": [
        "fa.get_factor_variance()\n"
      ],
      "metadata": {
        "colab": {
          "base_uri": "https://localhost:8080/",
          "height": 0
        },
        "id": "PkEkYN4H94cT",
        "outputId": "32af601e-3725-4606-ad98-415caa24019b"
      },
      "execution_count": 19,
      "outputs": [
        {
          "output_type": "execute_result",
          "data": {
            "text/plain": [
              "(array([2.70963262, 2.47308983, 2.04110564, 1.844498  , 1.52215297]),\n",
              " array([0.1083853 , 0.09892359, 0.08164423, 0.07377992, 0.06088612]),\n",
              " array([0.1083853 , 0.2073089 , 0.28895312, 0.36273304, 0.42361916]))"
            ]
          },
          "metadata": {},
          "execution_count": 19
        }
      ]
    }
  ]
}