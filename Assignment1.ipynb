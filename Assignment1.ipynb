{
  "nbformat": 4,
  "nbformat_minor": 0,
  "metadata": {
    "colab": {
      "provenance": [],
      "authorship_tag": "ABX9TyPOOmnlD3VW17gAoaVU6CJN",
      "include_colab_link": true
    },
    "kernelspec": {
      "name": "python3",
      "display_name": "Python 3"
    },
    "language_info": {
      "name": "python"
    }
  },
  "cells": [
    {
      "cell_type": "markdown",
      "metadata": {
        "id": "view-in-github",
        "colab_type": "text"
      },
      "source": [
        "<a href=\"https://colab.research.google.com/github/ywtd387e/lab_exp3/blob/main/Assignment1.ipynb\" target=\"_parent\"><img src=\"https://colab.research.google.com/assets/colab-badge.svg\" alt=\"Open In Colab\"/></a>"
      ]
    },
    {
      "cell_type": "code",
      "execution_count": 2,
      "metadata": {
        "colab": {
          "base_uri": "https://localhost:8080/"
        },
        "id": "mqQsGrzVf516",
        "outputId": "acf4cf5f-f33c-44b3-d626-11c1107619ce"
      },
      "outputs": [
        {
          "output_type": "stream",
          "name": "stdout",
          "text": [
            "96\n",
            "465\n",
            "mean of a is  4.0\n",
            "mena of b is :  9.0\n",
            "standerd deviation 1.7888543819998315\n",
            "standerd deviation 3.4641016151377544\n",
            "variance 3.199999999999999\n",
            "variance 11.999999999999998\n",
            "3.1999999999999996.1967733539318655\n",
            "6.196773353931865511.999999999999998\n",
            "corelation is :  0.026747901304236477\n"
          ]
        }
      ],
      "source": [
        "import math as m\n",
        "\n",
        "a=[1,3,5,5,6]\n",
        "sum=0\n",
        "sum1=0\n",
        "b=[4,6,10,12,13]\n",
        "bsum=0\n",
        "bsum1=0\n",
        "\n",
        "for i in range(0,5):\n",
        "\n",
        "   sum=sum+a[i]\n",
        "   sum1=sum1+a[i]**2\n",
        "   bsum=bsum+b[i]\n",
        "   bsum1=bsum1+b[i]**2\n",
        "print(sum1)\n",
        "print(bsum1)\n",
        "mean=sum/len(a)\n",
        "bmean=bsum/len(b)\n",
        "print(\"mean of a is \",mean)\n",
        "print(\"mena of b is : \",bmean)\n",
        "sd=m.sqrt(sum1/len(a) -mean**2)\n",
        "bsd=m.sqrt(bsum1/len(a) -bmean**2)\n",
        "\n",
        "print(\"standerd deviation\",sd)\n",
        "print(\"standerd deviation\",bsd)\n",
        "\n",
        "print(\"variance\",sd**2)\n",
        "print(\"variance\",bsd**2)\n",
        "\n",
        "cov=[[sd**2,sd*bsd],[sd*bsd,bsd**2]]\n",
        "\n",
        "\n",
        "for j in range (2):\n",
        "\n",
        "   for k in range (2):\n",
        "\n",
        "     print(cov[j][k],end=\"\")\n",
        "\n",
        "   print(\"\")\n",
        "r=(sum*bsum)-(sum*bsum)/len(a)\n",
        "s=m.sqrt(sum1)-(sum**2)/len(a)\n",
        "p=m.sqrt(bsum1)-(bsum**2)/len(b)\n",
        "q=s*p;\n",
        "print(\"corelation is : \",r/q)\n"
      ]
    }
  ]
}